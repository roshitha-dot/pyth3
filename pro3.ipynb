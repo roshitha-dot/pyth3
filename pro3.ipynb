{
 "cells": [
  {
   "cell_type": "code",
   "execution_count": 7,
   "id": "30fa4efd-19f1-4dc0-b098-f73070b100b0",
   "metadata": {},
   "outputs": [
    {
     "name": "stdin",
     "output_type": "stream",
     "text": [
      "Enter total number of working days 5\n",
      "Enter number of days  absent 2\n"
     ]
    }
   ],
   "source": [
    "p = int(input(\"Enter total number of working days\"))\n",
    "a = int(input(\"Enter number of days  absent\"))\n",
    "\n",
    "t=(p-a)/p*100"
   ]
  },
  {
   "cell_type": "code",
   "execution_count": 9,
   "id": "1655ef19-44fe-4390-9a47-f1d18e117450",
   "metadata": {},
   "outputs": [
    {
     "ename": "ZeroDivisionError",
     "evalue": "division by zero",
     "output_type": "error",
     "traceback": [
      "\u001b[1;31m---------------------------------------------------------------------------\u001b[0m",
      "\u001b[1;31mZeroDivisionError\u001b[0m                         Traceback (most recent call last)",
      "Cell \u001b[1;32mIn[9], line 1\u001b[0m\n\u001b[1;32m----> 1\u001b[0m t\u001b[38;5;241m=\u001b[39m(p\u001b[38;5;241m-\u001b[39ma)\u001b[38;5;241m/\u001b[39mp\u001b[38;5;241m*\u001b[39m\u001b[38;5;241m100\u001b[39m\n\u001b[0;32m      2\u001b[0m \u001b[38;5;28mprint\u001b[39m(\u001b[38;5;124m\"\u001b[39m\u001b[38;5;124mYour attendance is \u001b[39m\u001b[38;5;124m\"\u001b[39m,t)\n\u001b[0;32m      3\u001b[0m \u001b[38;5;28;01mif\u001b[39;00m t \u001b[38;5;241m<\u001b[39m\u001b[38;5;241m75\u001b[39m :\n",
      "\u001b[1;31mZeroDivisionError\u001b[0m: division by zero"
     ]
    }
   ],
   "source": [
    "p = int(input(\"Enter total number of working days\"))\n",
    "a = int(input(\"Enter number of days  absent\"))\n",
    "t=(p-a)/p*100\n",
    "print(\"Your attendance is \",t)\n",
    "if t <75 :\n",
    "     print(\"You are not eligible for exams\")\n",
    "else:\n",
    "     print(\"You are eligible for writing exam\")"
   ]
  },
  {
   "cell_type": "code",
   "execution_count": null,
   "id": "8cf2fa85-a499-4252-82b9-9dc8b54d5ff5",
   "metadata": {},
   "outputs": [],
   "source": []
  }
 ],
 "metadata": {
  "kernelspec": {
   "display_name": "Python 3 (ipykernel)",
   "language": "python",
   "name": "python3"
  },
  "language_info": {
   "codemirror_mode": {
    "name": "ipython",
    "version": 3
   },
   "file_extension": ".py",
   "mimetype": "text/x-python",
   "name": "python",
   "nbconvert_exporter": "python",
   "pygments_lexer": "ipython3",
   "version": "3.12.4"
  }
 },
 "nbformat": 4,
 "nbformat_minor": 5
}
